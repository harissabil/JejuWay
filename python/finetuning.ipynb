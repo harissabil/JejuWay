{
 "cells": [
  {
   "cell_type": "code",
   "execution_count": 2,
   "metadata": {},
   "outputs": [],
   "source": [
    "import warnings\n",
    "\n",
    "warnings.filterwarnings(\"ignore\")"
   ]
  },
  {
   "cell_type": "code",
   "execution_count": 3,
   "metadata": {},
   "outputs": [
    {
     "name": "stderr",
     "output_type": "stream",
     "text": [
      "None of PyTorch, TensorFlow >= 2.0, or Flax have been found. Models won't be available and only tokenizers, configuration and file/data utilities can be used.\n"
     ]
    },
    {
     "data": {
      "text/html": [
       "<pre style=\"white-space:pre;overflow-x:auto;line-height:normal;font-family:Menlo,'DejaVu Sans Mono',consolas,'Courier New',monospace\"><span style=\"color: #000080; text-decoration-color: #000080; font-weight: bold\">Connected to Predibase as </span><span style=\"color: #800080; text-decoration-color: #800080; font-weight: bold\">User</span><span style=\"color: #000080; text-decoration-color: #000080; font-weight: bold\">(</span><span style=\"color: #808000; text-decoration-color: #808000; font-weight: bold\">id</span><span style=\"color: #000080; text-decoration-color: #000080; font-weight: bold\">=</span><span style=\"color: #ffff00; text-decoration-color: #ffff00\">88d7acfe</span><span style=\"color: #ffff00; text-decoration-color: #ffff00\">-dc32-473e-88bb-0f6795954134</span><span style=\"color: #000080; text-decoration-color: #000080; font-weight: bold\">, </span><span style=\"color: #808000; text-decoration-color: #808000; font-weight: bold\">username</span><span style=\"color: #000080; text-decoration-color: #000080; font-weight: bold\">=</span><span style=\"color: #800080; text-decoration-color: #800080; font-weight: bold\">dzakwanalifi</span><span style=\"color: #000080; text-decoration-color: #000080; font-weight: bold\">@apps.ipb.ac.id)</span>\n",
       "</pre>\n"
      ],
      "text/plain": [
       "\u001b[1;34mConnected to Predibase as \u001b[0m\u001b[1;35mUser\u001b[0m\u001b[1;34m(\u001b[0m\u001b[1;33mid\u001b[0m\u001b[1;34m=\u001b[0m\u001b[93m88d7acfe\u001b[0m\u001b[93m-dc32-473e-88bb-0f6795954134\u001b[0m\u001b[1;34m, \u001b[0m\u001b[1;33musername\u001b[0m\u001b[1;34m=\u001b[0m\u001b[1;35mdzakwanalifi\u001b[0m\u001b[1;34m@apps.ipb.ac.id\u001b[0m\u001b[1;34m)\u001b[0m\n"
      ]
     },
     "metadata": {},
     "output_type": "display_data"
    }
   ],
   "source": [
    "from predibase import Predibase, FinetuningConfig, DeploymentConfig\n",
    "\n",
    "# Get a KEY from https://app.predibase.com/\n",
    "api_token = 'API_KEY'\n",
    "pb = Predibase(api_token=api_token)"
   ]
  },
  {
   "cell_type": "code",
   "execution_count": 6,
   "metadata": {},
   "outputs": [
    {
     "name": "stdout",
     "output_type": "stream",
     "text": [
      "Dataset found: uuid='595e23f4-5757-4b62-84bd-54bfdd514bc8' name='jeju_itinerary_with_questions' connection_type='file' connection_name='file_uploads' status='connected'\n"
     ]
    }
   ],
   "source": [
    "import csv\n",
    "import sys\n",
    "from tokenizers import Tokenizer\n",
    "\n",
    "# Increase the CSV field size limit to handle large fields\n",
    "# csv.field_size_limit(sys.maxsize)\n",
    "\n",
    "# Sample tokenizer cost calculation\n",
    "tokenizer = Tokenizer.from_pretrained(\"upstage/solar-1-mini-tokenizer\")\n",
    "\n",
    "def validate_data_csv(csv_file_name):\n",
    "    \"\"\"Ensure the CSV has 'prompt', 'completion', and 'split' with all values.\"\"\"\n",
    "    with open(csv_file_name, 'r') as f:\n",
    "        reader = csv.DictReader(f)\n",
    "        for row in reader:\n",
    "            assert row['prompt'], \"Missing prompt\"\n",
    "            assert row['completion'], \"Missing completion\"\n",
    "            assert row['split'], \"Missing split\"\n",
    "    return True\n",
    "\n",
    "def compute_cost(csv_file_name, price_per_million_tokens=0.5):\n",
    "    \"\"\"Compute the cost of the dataset based on the number of tokens.\"\"\"\n",
    "    total_num_of_tokens = 0\n",
    "    with open(csv_file_name, 'r') as f:\n",
    "        reader = csv.DictReader(f)\n",
    "        values = [row['completion'] + \" \" + row['prompt'] for row in reader]\n",
    "        for value in values:\n",
    "            # Tokenize\n",
    "            enc = tokenizer.encode(value)\n",
    "            num_of_tokens = len(enc.tokens)\n",
    "            total_num_of_tokens += num_of_tokens\n",
    "\n",
    "    return total_num_of_tokens / 1000000 * price_per_million_tokens\n",
    "\n",
    "# Path to your CSV file\n",
    "csv_file_name = \"jeju_itinerary_with_questions_final_clean.csv\"\n",
    "dataset_name = \"jeju_itinerary_with_questions\"\n",
    "\n",
    "try:\n",
    "    # Check if the dataset already exists in the system\n",
    "    pb_dataset = pb.datasets.get(dataset_name)\n",
    "    print(f\"Dataset found: {pb_dataset}\")\n",
    "except RuntimeError:\n",
    "    print(\"Dataset not found, creating...\")\n",
    "\n",
    "    # Validate the CSV\n",
    "    print(f\"Dataset Validation: {validate_data_csv(csv_file_name)}\")\n",
    "    \n",
    "    # Compute the cost of training\n",
    "    print(f\"Estimated Cost: {compute_cost(csv_file_name)} USD\")\n",
    "\n",
    "    # Upload the dataset\n",
    "    print(\"Uploading dataset...\")\n",
    "    pb_dataset = pb.datasets.from_file(csv_file_name, name=dataset_name)\n",
    "\n",
    "    # Dataset Validation: True\n",
    "    # Estimated Cost: (computed based on token count)\n",
    "\n",
    "# FIXME1: how to delete or update the data"
   ]
  },
  {
   "cell_type": "code",
   "execution_count": 7,
   "metadata": {},
   "outputs": [
    {
     "name": "stdout",
     "output_type": "stream",
     "text": [
      "uuid='fa6337c5-8dc5-4054-8025-09c576d90fef' name='jeju-itinerary-question-generator' description='Jeju Itinerary Question Generator'\n"
     ]
    }
   ],
   "source": [
    "repo_name = \"jeju-itinerary-question-generator\"\n",
    "repo = pb.repos.create(name=repo_name, description=\"Jeju Itinerary Question Generator\", exists_ok=True)\n",
    "print(repo)"
   ]
  },
  {
   "cell_type": "code",
   "execution_count": 8,
   "metadata": {},
   "outputs": [
    {
     "name": "stdout",
     "output_type": "stream",
     "text": [
      "Successfully requested finetuning of solar-1-mini-chat-240612 as `jeju-itinerary-question-generator/3`. (Job UUID: 0219fe35-a117-42fa-82a4-8145d7205653).\n",
      "\n",
      "Watching progress of finetuning job 0219fe35-a117-42fa-82a4-8145d7205653. This call will block until the job has finished. Canceling or terminating this call will NOT cancel or terminate the job itself.\n",
      "\n",
      "Job is starting. Total queue time: 0:02:41                  \n",
      "Waiting to receive training metrics...\n",
      "\n",
      "┌────────────┬────────────┬─────────────────┐\n",
      "│ checkpoint \u001b[0m│ train_loss \u001b[0m│ validation_loss \u001b[0m│\n",
      "├────────────┼────────────┼─────────────────┤\n",
      "│     1      \u001b[0m│   1.9278   \u001b[0m│        --       \u001b[0m│\n",
      "│     2      \u001b[0m│   1.4703   \u001b[0m│        --       \u001b[0m│\n",
      "└────────────┴────────────┴─────────────────┘\n"
     ]
    }
   ],
   "source": [
    "# Start the fine-tuning job\n",
    "adapter = pb.adapters.create(\n",
    "    config=FinetuningConfig(\n",
    "        base_model=\"solar-1-mini-chat-240612\",  # Base model for fine-tuning\n",
    "        epochs=2,  # Number of training epochs\n",
    "        rank=1,    # Adapter rank\n",
    "    ),\n",
    "    dataset=pb_dataset,  # The dataset for training\n",
    "    repo=repo,  # The repository to store the fine-tuned model\n",
    "    description=\"Fine-tuning model for generating questions based on Jeju itinerary\"\n",
    ")"
   ]
  },
  {
   "cell_type": "code",
   "execution_count": 9,
   "metadata": {},
   "outputs": [
    {
     "data": {
      "text/plain": [
       "Adapter(repo='jeju-itinerary-question-generator', tag=3, archived=False, base_model='solar-1-mini-chat-240612', description='Fine-tuning model for generating questions based on Jeju itinerary', artifact_path='0219fe35-a117-42fa-82a4-8145d7205653/1e6d3fa804dc41d79de71b20e4b8ef9c/artifacts/model/model_weights', finetuning_error=None, finetuning_job_uuid='0219fe35-a117-42fa-82a4-8145d7205653')"
      ]
     },
     "execution_count": 9,
     "metadata": {},
     "output_type": "execute_result"
    }
   ],
   "source": [
    "adapter"
   ]
  },
  {
   "cell_type": "code",
   "execution_count": 10,
   "metadata": {},
   "outputs": [
    {
     "data": {
      "text/plain": [
       "'jeju-itinerary-question-generator/3'"
      ]
     },
     "execution_count": 10,
     "metadata": {},
     "output_type": "execute_result"
    }
   ],
   "source": [
    "adapter_id = adapter.repo + \"/\" + str(adapter.tag)\n",
    "adapter_id"
   ]
  },
  {
   "cell_type": "code",
   "execution_count": 11,
   "metadata": {},
   "outputs": [
    {
     "data": {
      "text/plain": [
       "Adapter(repo='jeju-itinerary-question-generator', tag=3, archived=False, base_model='solar-1-mini-chat-240612', description='Fine-tuning model for generating questions based on Jeju itinerary', artifact_path='0219fe35-a117-42fa-82a4-8145d7205653/1e6d3fa804dc41d79de71b20e4b8ef9c/artifacts/model/model_weights', finetuning_error=None, finetuning_job_uuid='0219fe35-a117-42fa-82a4-8145d7205653')"
      ]
     },
     "execution_count": 11,
     "metadata": {},
     "output_type": "execute_result"
    }
   ],
   "source": [
    "# Get adapter, blocking call if training is still in progress\n",
    "adapter = pb.adapters.get(adapter_id)\n",
    "adapter"
   ]
  },
  {
   "cell_type": "code",
   "execution_count": 6,
   "metadata": {},
   "outputs": [
    {
     "name": "stdout",
     "output_type": "stream",
     "text": [
      "Day 1:\n",
      "\n",
      "1. Arrival at Jeju International Airport\n",
      "2. Rent a car (optional)\n",
      "3. Visit Manjanggul Cave, a UNESCO World Heritage Site and one of the largest lava tubes in the world.\n",
      "4. Have lunch at a local restaurant, try the Jeju black pork buns.\n",
      "5. Explore the Seongsan Ilchulbong, a UNESCO World Heritage Site and a tuff cone formed by underwater volcanic activity.\n",
      "6. Dinner at a local restaurant, try the Jeju abalone stew.\n",
      "\n",
      "Day 2:\n",
      "\n",
      "1. Start the day with a visit to the Jeju Folk Village Museum to learn about traditional Jeju life.\n",
      "2. Have lunch at a local restaurant, try the Jeju octopus hot pot.\n",
      "3. Hike Hallasan National Park, the highest mountain in South Korea and the center of Jeju Island.\n",
      "4. Dinner at a local restaurant, try the Jeju grilled octopus.\n",
      "\n",
      "Day 3:\n",
      "\n",
      "1. Visit the Jeju Arboretum, a botanical garden with over 1,000 species of trees and plants.\n",
      "2. Have lunch at a local restaurant, try the Jeju seafood pancake.\n",
      "3. Explore the Jeju Museum of Art and History, which showcases the island's cultural heritage.\n",
      "4. Dinner at a local restaurant, try the Jeju seafood hot pot.\n",
      "5. Return the car (if rented)\n",
      "6. Departure from Jeju International Airport\n",
      "\n",
      "This itinerary offers a mix of nature hikes and local food experiences, allowing you to explore the beautiful landscapes of Jeju Island and indulge in its delicious cuisine. Enjoy your trip!\n"
     ]
    }
   ],
   "source": [
    "# Define an example prompt\n",
    "input_prompt = \"\"\"\n",
    "system\\nYou are a travel agent who specializes in creating personalized itineraries for Jeju Island. Based on the user's question, generate a detailed itinerary that matches the specified trip duration and interests. Ensure that the itinerary is well-structured and offers a variety of activities and attractions on Jeju Island.\n",
    "user\\nI am planning a 3-day trip to Jeju Island. Can you recommend an itinerary that includes nature hikes and local food experiences?\n",
    "itinerary\n",
    "\"\"\"\n",
    "\n",
    "adapter_id = \"jeju-itinerary-question-generator/3\"\n",
    "\n",
    "# Load the fine-tuned model (assuming adapter_id is already available from the fine-tuning process)\n",
    "lorax_client = pb.deployments.client(\"solar-1-mini-chat-240612\")\n",
    "print(lorax_client.generate(input_prompt, adapter_id=adapter_id, max_new_tokens=1000).generated_text)"
   ]
  },
  {
   "cell_type": "code",
   "execution_count": 13,
   "metadata": {},
   "outputs": [
    {
     "name": "stdout",
     "output_type": "stream",
     "text": [
      "Downloading adapter jeju-itinerary-question-generator/3 as 3.zip...\n",
      "Done!\n"
     ]
    }
   ],
   "source": [
    "# Download adapter\n",
    "pb.adapters.download(adapter_id, dest=f\"{adapter.tag}.zip\")"
   ]
  },
  {
   "cell_type": "code",
   "execution_count": null,
   "metadata": {},
   "outputs": [],
   "source": []
  }
 ],
 "metadata": {
  "language_info": {
   "name": "python"
  }
 },
 "nbformat": 4,
 "nbformat_minor": 2
}
